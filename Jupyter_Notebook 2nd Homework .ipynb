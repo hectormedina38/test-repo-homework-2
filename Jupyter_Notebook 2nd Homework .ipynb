{
 "cells": [
  {
   "cell_type": "markdown",
   "metadata": {},
   "source": [
    "<center>\n",
    "    <img src=\"https://s3-api.us-geo.objectstorage.softlayer.net/cf-courses-data/CognitiveClass/Logos/organization_logo/organization_logo.png\" width=\"300\" alt=\"cognitiveclass.ai logo\"  />\n",
    "</center>\n"
   ]
  },
  {
   "cell_type": "markdown",
   "metadata": {},
   "source": [
    "#### Add your code below following the instructions given in the course\n"
   ]
  },
  {
   "cell_type": "markdown",
   "metadata": {},
   "source": [
    "# My Jupiter Notebook on IBM Developer Skill Network"
   ]
  },
  {
   "cell_type": "markdown",
   "metadata": {
    "tags": []
   },
   "source": [
    "**Héctor Francisco Medina**\n",
    "###### I'm an economist and Marketing Specialist. I want to get all that capabilites to be a data science in my field "
   ]
  },
  {
   "cell_type": "markdown",
   "metadata": {},
   "source": [
    "_I am interest in data science because I want to be able to understand the behavior of customers in my economic sector, the tech retail._    \n",
    "_Also, I want to learn about data science because I believe that if i want to launch a business in the future is really important to be able to understand the gaps at the market from a data view in order to properly attack the opportunity I'll found._\n"
   ]
  },
  {
   "cell_type": "markdown",
   "metadata": {},
   "source": [
    "### **Average between two numbers**\n"
   ]
  },
  {
   "cell_type": "code",
   "execution_count": 2,
   "metadata": {},
   "outputs": [
    {
     "data": {
      "text/plain": [
       "9.5"
      ]
     },
     "execution_count": 2,
     "metadata": {},
     "output_type": "execute_result"
    }
   ],
   "source": [
    "def promedio(n1,n2):\n",
    "    return (n1+n2)/2\n",
    "\n",
    "promedio(5,14)"
   ]
  },
  {
   "cell_type": "markdown",
   "metadata": {},
   "source": [
    "| date | day total sell | days orders |\n",
    "|---|---|---|\n",
    "| '2022-09-17'| 2700324 | 203045|\n"
   ]
  },
  {
   "cell_type": "markdown",
   "metadata": {},
   "source": [
    "* Good Morning \n",
    "* Buenos dias\n",
    "* Bom dîa"
   ]
  },
  {
   "cell_type": "markdown",
   "metadata": {},
   "source": [
    "<a \"https://www.google.com\": Link a google a> \n",
    "    \n"
   ]
  },
  {
   "attachments": {
    "e20d89cc-7e90-4efb-808f-50e04fef9a61.jpeg": {
     "image/jpeg": "[encoded data removed]"
    }
   },
   "cell_type": "markdown",
   "metadata": {},
   "source": [
    "![descarga.jpeg](attachment:e20d89cc-7e90-4efb-808f-50e04fef9a61.jpeg)"
   ]
  }
 ],
 "metadata": {
  "kernelspec": {
   "display_name": "Python",
   "language": "python",
   "name": "conda-env-python-py"
  },
  "language_info": {
   "codemirror_mode": {
    "name": "ipython",
    "version": 3
   },
   "file_extension": ".py",
   "mimetype": "text/x-python",
   "name": "python",
   "nbconvert_exporter": "python",
   "pygments_lexer": "ipython3",
   "version": "3.7.12"
  }
 },
 "nbformat": 4,
 "nbformat_minor": 4
}
